{
  "cells": [
    {
      "cell_type": "markdown",
      "metadata": {
        "id": "xtsRGSz_8J1S"
      },
      "source": [
        "# **Previsão de Tarifas em Corridas de Táxi com PySpark**"
      ]
    },
    {
      "cell_type": "markdown",
      "metadata": {
        "id": "vxAMN1nx8uQb"
      },
      "source": [
        "-  O desafio que enfrentaremos é semelhante ao apresentado no projeto de [Previsão de Tarifas em Corridas de Táxi](https://medium.com/@omarca2015c/previsão-de-tarifas-em-corridas-de-táxi-911506cc1117), porém desta vez estaremos utilizando o conjunto completo de dados, que contém aproximadamente 55 milhões de linhas."
      ]
    },
    {
      "cell_type": "markdown",
      "metadata": {
        "id": "ZAnXIPI9_g0O"
      },
      "source": [
        "## **1. Problema de Negócio**"
      ]
    },
    {
      "cell_type": "markdown",
      "metadata": {
        "id": "UFAc2CEv_nrd"
      },
      "source": [
        "- Imagine que você trabalha para uma empresa de táxi e que uma das maiores reclamações de seus clientes é que eles não sabem quanto custará uma corrida até que ela termine.Isso porque a distância é apenas um dos vários fatores a partir dos quais as tarifas de táxi são calculadas.\n",
        "\n",
        "- Nesse contexto, faremos uso da ferramenta Pyspark para realizar as previsões necessárias."
      ]
    },
    {
      "cell_type": "markdown",
      "metadata": {
        "id": "4x5KoxzTDAI1"
      },
      "source": [
        "## **2. Preparando o ambiente para utilizar o PySpark**"
      ]
    },
    {
      "cell_type": "markdown",
      "metadata": {
        "id": "5ZlSLQP5EIV8"
      },
      "source": [
        "### **Instalando o Java**"
      ]
    },
    {
      "cell_type": "markdown",
      "metadata": {
        "id": "tfENEUJtEccX"
      },
      "source": [
        "- O Apache Spark depende de outros sistemas, portanto, antes do Spark é preciso instalar as dependências. Primeiro, deve-se instalar o java"
      ]
    },
    {
      "cell_type": "code",
      "execution_count": 1,
      "metadata": {
        "id": "yGuL62cZ8J6h"
      },
      "outputs": [],
      "source": [
        "!apt-get install openjdk-8-jdk-headless -qq > /dev/null"
      ]
    },
    {
      "cell_type": "markdown",
      "metadata": {
        "id": "uM9AoXEfEhwJ"
      },
      "source": [
        "### **Instalando o Apache Spark**"
      ]
    },
    {
      "cell_type": "markdown",
      "metadata": {
        "id": "25bfhPNaEt9i"
      },
      "source": [
        "- Em seguida, é preciso fazer o download do Spark, e como este roda sobre o  Hadoop Distributed File System (HDFS), também é preciso fazer  o download do Hadoop. Após os downloads, basta descompactar esses arquivos que o Spark já estará disponível no seu notebook Colab."
      ]
    },
    {
      "cell_type": "code",
      "execution_count": 2,
      "metadata": {
        "id": "AkSgnGr48WMX"
      },
      "outputs": [],
      "source": [
        "# Fazendo download\n",
        "!wget -q https://archive.apache.org/dist/spark/spark-3.1.2/spark-3.1.2-bin-hadoop2.7.tgz\n",
        "\n",
        "# Descompactando os arquivos\n",
        "!tar xf spark-3.1.2-bin-hadoop2.7.tgz"
      ]
    },
    {
      "cell_type": "markdown",
      "metadata": {
        "id": "hjaWhrAQFcXP"
      },
      "source": [
        "### **Configurando o ambiente**"
      ]
    },
    {
      "cell_type": "markdown",
      "metadata": {
        "id": "TPk8nG5wF4tn"
      },
      "source": [
        "- Precisamos dizer para o sistema onde encontrar o Java e o Spark, previamente instalados."
      ]
    },
    {
      "cell_type": "code",
      "execution_count": 3,
      "metadata": {
        "id": "6LqevNsf8cdb"
      },
      "outputs": [],
      "source": [
        "# Importando a biblioteca os\n",
        "import os\n",
        "\n",
        "# Definindo a variável de ambiente do Java\n",
        "os.environ[\"JAVA_HOME\"] = \"/usr/lib/jvm/java-8-openjdk-amd64\"\n",
        "\n",
        "# Definindo a variável de ambiente do Spark\n",
        "os.environ[\"SPARK_HOME\"] = \"/content/spark-3.1.2-bin-hadoop2.7\""
      ]
    },
    {
      "cell_type": "markdown",
      "metadata": {
        "id": "LuUywCz0GZL1"
      },
      "source": [
        "- A seguir, vamos precisar da biblioteca findspark que vai nos permitir importar pacotes necessários para o funcionamento do pyspark."
      ]
    },
    {
      "cell_type": "code",
      "execution_count": 4,
      "metadata": {
        "id": "6quL_hkw8ilc"
      },
      "outputs": [],
      "source": [
        "# instalando a findspark\n",
        "!pip install -q findspark"
      ]
    },
    {
      "cell_type": "code",
      "execution_count": 5,
      "metadata": {
        "id": "QDvZUXfY8ndW"
      },
      "outputs": [],
      "source": [
        "#importando a findspark\n",
        "import findspark\n",
        "\n",
        "# iniciando o findspark\n",
        "findspark.init()"
      ]
    },
    {
      "cell_type": "markdown",
      "metadata": {
        "id": "qON2F1uNG9sd"
      },
      "source": [
        "### **Iniciando o PySpark**"
      ]
    },
    {
      "cell_type": "code",
      "execution_count": 6,
      "metadata": {
        "colab": {
          "base_uri": "https://localhost:8080/",
          "height": 219
        },
        "id": "BT2VWETbHnA3",
        "outputId": "1e16a346-f4fa-4e72-fd3f-d3b20a41902d"
      },
      "outputs": [
        {
          "output_type": "execute_result",
          "data": {
            "text/plain": [
              "<pyspark.sql.session.SparkSession at 0x7fc51c3343a0>"
            ],
            "text/html": [
              "\n",
              "            <div>\n",
              "                <p><b>SparkSession - in-memory</b></p>\n",
              "                \n",
              "        <div>\n",
              "            <p><b>SparkContext</b></p>\n",
              "\n",
              "            <p><a href=\"http://c13540e106f7:4040\">Spark UI</a></p>\n",
              "\n",
              "            <dl>\n",
              "              <dt>Version</dt>\n",
              "                <dd><code>v3.1.2</code></dd>\n",
              "              <dt>Master</dt>\n",
              "                <dd><code>local[*]</code></dd>\n",
              "              <dt>AppName</dt>\n",
              "                <dd><code>pyspark-shell</code></dd>\n",
              "            </dl>\n",
              "        </div>\n",
              "        \n",
              "            </div>\n",
              "        "
            ]
          },
          "metadata": {},
          "execution_count": 6
        }
      ],
      "source": [
        "# importando o pacote necessário para iniciar uma seção Spark\n",
        "from pyspark.sql import SparkSession\n",
        "\n",
        "# iniciando o spark context\n",
        "sc = SparkSession.builder.master('local[*]').getOrCreate()\n",
        "\n",
        "# Verificando se a sessão foi criada\n",
        "sc"
      ]
    },
    {
      "cell_type": "markdown",
      "metadata": {
        "id": "WA8ajV9UILVh"
      },
      "source": [
        "## **3. Ingestão dos dados para o Apache Spark**"
      ]
    },
    {
      "cell_type": "markdown",
      "metadata": {
        "id": "5u8Z07XctYY4"
      },
      "source": [
        "### **3.1 Habilitar o uso da API Kaggle no Google Colab**"
      ]
    },
    {
      "cell_type": "code",
      "execution_count": 7,
      "metadata": {
        "id": "bpyOa3XJ80Fe"
      },
      "outputs": [],
      "source": [
        "# Instalando a biblioteca Kaggle\n",
        "!pip install -q kaggle"
      ]
    },
    {
      "cell_type": "markdown",
      "metadata": {
        "id": "5OfDM9Pcw0mN"
      },
      "source": [
        "- Faça o download do arquivo de configuração da API Kaggle chamado \"kaggle.json\" em sua conta Kaggle."
      ]
    },
    {
      "cell_type": "code",
      "execution_count": 8,
      "metadata": {
        "colab": {
          "base_uri": "https://localhost:8080/",
          "height": 90
        },
        "id": "bBVcs7iZAYVH",
        "outputId": "6b15289d-cc9e-4f5d-cfd0-c1c41d843c9e"
      },
      "outputs": [
        {
          "output_type": "display_data",
          "data": {
            "text/plain": [
              "<IPython.core.display.HTML object>"
            ],
            "text/html": [
              "\n",
              "     <input type=\"file\" id=\"files-a64fd147-d7e8-431e-a3db-d97d2c72663c\" name=\"files[]\" multiple disabled\n",
              "        style=\"border:none\" />\n",
              "     <output id=\"result-a64fd147-d7e8-431e-a3db-d97d2c72663c\">\n",
              "      Upload widget is only available when the cell has been executed in the\n",
              "      current browser session. Please rerun this cell to enable.\n",
              "      </output>\n",
              "      <script>// Copyright 2017 Google LLC\n",
              "//\n",
              "// Licensed under the Apache License, Version 2.0 (the \"License\");\n",
              "// you may not use this file except in compliance with the License.\n",
              "// You may obtain a copy of the License at\n",
              "//\n",
              "//      http://www.apache.org/licenses/LICENSE-2.0\n",
              "//\n",
              "// Unless required by applicable law or agreed to in writing, software\n",
              "// distributed under the License is distributed on an \"AS IS\" BASIS,\n",
              "// WITHOUT WARRANTIES OR CONDITIONS OF ANY KIND, either express or implied.\n",
              "// See the License for the specific language governing permissions and\n",
              "// limitations under the License.\n",
              "\n",
              "/**\n",
              " * @fileoverview Helpers for google.colab Python module.\n",
              " */\n",
              "(function(scope) {\n",
              "function span(text, styleAttributes = {}) {\n",
              "  const element = document.createElement('span');\n",
              "  element.textContent = text;\n",
              "  for (const key of Object.keys(styleAttributes)) {\n",
              "    element.style[key] = styleAttributes[key];\n",
              "  }\n",
              "  return element;\n",
              "}\n",
              "\n",
              "// Max number of bytes which will be uploaded at a time.\n",
              "const MAX_PAYLOAD_SIZE = 100 * 1024;\n",
              "\n",
              "function _uploadFiles(inputId, outputId) {\n",
              "  const steps = uploadFilesStep(inputId, outputId);\n",
              "  const outputElement = document.getElementById(outputId);\n",
              "  // Cache steps on the outputElement to make it available for the next call\n",
              "  // to uploadFilesContinue from Python.\n",
              "  outputElement.steps = steps;\n",
              "\n",
              "  return _uploadFilesContinue(outputId);\n",
              "}\n",
              "\n",
              "// This is roughly an async generator (not supported in the browser yet),\n",
              "// where there are multiple asynchronous steps and the Python side is going\n",
              "// to poll for completion of each step.\n",
              "// This uses a Promise to block the python side on completion of each step,\n",
              "// then passes the result of the previous step as the input to the next step.\n",
              "function _uploadFilesContinue(outputId) {\n",
              "  const outputElement = document.getElementById(outputId);\n",
              "  const steps = outputElement.steps;\n",
              "\n",
              "  const next = steps.next(outputElement.lastPromiseValue);\n",
              "  return Promise.resolve(next.value.promise).then((value) => {\n",
              "    // Cache the last promise value to make it available to the next\n",
              "    // step of the generator.\n",
              "    outputElement.lastPromiseValue = value;\n",
              "    return next.value.response;\n",
              "  });\n",
              "}\n",
              "\n",
              "/**\n",
              " * Generator function which is called between each async step of the upload\n",
              " * process.\n",
              " * @param {string} inputId Element ID of the input file picker element.\n",
              " * @param {string} outputId Element ID of the output display.\n",
              " * @return {!Iterable<!Object>} Iterable of next steps.\n",
              " */\n",
              "function* uploadFilesStep(inputId, outputId) {\n",
              "  const inputElement = document.getElementById(inputId);\n",
              "  inputElement.disabled = false;\n",
              "\n",
              "  const outputElement = document.getElementById(outputId);\n",
              "  outputElement.innerHTML = '';\n",
              "\n",
              "  const pickedPromise = new Promise((resolve) => {\n",
              "    inputElement.addEventListener('change', (e) => {\n",
              "      resolve(e.target.files);\n",
              "    });\n",
              "  });\n",
              "\n",
              "  const cancel = document.createElement('button');\n",
              "  inputElement.parentElement.appendChild(cancel);\n",
              "  cancel.textContent = 'Cancel upload';\n",
              "  const cancelPromise = new Promise((resolve) => {\n",
              "    cancel.onclick = () => {\n",
              "      resolve(null);\n",
              "    };\n",
              "  });\n",
              "\n",
              "  // Wait for the user to pick the files.\n",
              "  const files = yield {\n",
              "    promise: Promise.race([pickedPromise, cancelPromise]),\n",
              "    response: {\n",
              "      action: 'starting',\n",
              "    }\n",
              "  };\n",
              "\n",
              "  cancel.remove();\n",
              "\n",
              "  // Disable the input element since further picks are not allowed.\n",
              "  inputElement.disabled = true;\n",
              "\n",
              "  if (!files) {\n",
              "    return {\n",
              "      response: {\n",
              "        action: 'complete',\n",
              "      }\n",
              "    };\n",
              "  }\n",
              "\n",
              "  for (const file of files) {\n",
              "    const li = document.createElement('li');\n",
              "    li.append(span(file.name, {fontWeight: 'bold'}));\n",
              "    li.append(span(\n",
              "        `(${file.type || 'n/a'}) - ${file.size} bytes, ` +\n",
              "        `last modified: ${\n",
              "            file.lastModifiedDate ? file.lastModifiedDate.toLocaleDateString() :\n",
              "                                    'n/a'} - `));\n",
              "    const percent = span('0% done');\n",
              "    li.appendChild(percent);\n",
              "\n",
              "    outputElement.appendChild(li);\n",
              "\n",
              "    const fileDataPromise = new Promise((resolve) => {\n",
              "      const reader = new FileReader();\n",
              "      reader.onload = (e) => {\n",
              "        resolve(e.target.result);\n",
              "      };\n",
              "      reader.readAsArrayBuffer(file);\n",
              "    });\n",
              "    // Wait for the data to be ready.\n",
              "    let fileData = yield {\n",
              "      promise: fileDataPromise,\n",
              "      response: {\n",
              "        action: 'continue',\n",
              "      }\n",
              "    };\n",
              "\n",
              "    // Use a chunked sending to avoid message size limits. See b/62115660.\n",
              "    let position = 0;\n",
              "    do {\n",
              "      const length = Math.min(fileData.byteLength - position, MAX_PAYLOAD_SIZE);\n",
              "      const chunk = new Uint8Array(fileData, position, length);\n",
              "      position += length;\n",
              "\n",
              "      const base64 = btoa(String.fromCharCode.apply(null, chunk));\n",
              "      yield {\n",
              "        response: {\n",
              "          action: 'append',\n",
              "          file: file.name,\n",
              "          data: base64,\n",
              "        },\n",
              "      };\n",
              "\n",
              "      let percentDone = fileData.byteLength === 0 ?\n",
              "          100 :\n",
              "          Math.round((position / fileData.byteLength) * 100);\n",
              "      percent.textContent = `${percentDone}% done`;\n",
              "\n",
              "    } while (position < fileData.byteLength);\n",
              "  }\n",
              "\n",
              "  // All done.\n",
              "  yield {\n",
              "    response: {\n",
              "      action: 'complete',\n",
              "    }\n",
              "  };\n",
              "}\n",
              "\n",
              "scope.google = scope.google || {};\n",
              "scope.google.colab = scope.google.colab || {};\n",
              "scope.google.colab._files = {\n",
              "  _uploadFiles,\n",
              "  _uploadFilesContinue,\n",
              "};\n",
              "})(self);\n",
              "</script> "
            ]
          },
          "metadata": {}
        },
        {
          "output_type": "stream",
          "name": "stdout",
          "text": [
            "Saving kaggle.json to kaggle.json\n"
          ]
        },
        {
          "output_type": "execute_result",
          "data": {
            "text/plain": [
              "{'kaggle.json': b'{\"username\":\"omarmarca\",\"key\":\"9621522919e711e3ed6531006be9c535\"}'}"
            ]
          },
          "metadata": {},
          "execution_count": 8
        }
      ],
      "source": [
        "# Fazendo o upload do Token da API Kaggle\n",
        "from google.colab import files\n",
        "files.upload()"
      ]
    },
    {
      "cell_type": "code",
      "execution_count": 9,
      "metadata": {
        "id": "DVMYHNUPyUkl"
      },
      "outputs": [],
      "source": [
        "# Movendo o arquivo kaggle.json para o diretório adequado\n",
        "!mkdir -p ~/.kaggle\n",
        "!cp kaggle.json ~/.kaggle/\n",
        "!chmod 600 ~/.kaggle/kaggle.json"
      ]
    },
    {
      "cell_type": "code",
      "execution_count": 10,
      "metadata": {
        "colab": {
          "base_uri": "https://localhost:8080/"
        },
        "id": "aK8Z-tAsCutR",
        "outputId": "4eda9a27-6232-4451-8607-bd721e284c70"
      },
      "outputs": [
        {
          "output_type": "stream",
          "name": "stdout",
          "text": [
            "Downloading new-york-city-taxi-fare-prediction.zip to /content\n",
            "100% 1.56G/1.56G [00:18<00:00, 172MB/s]\n",
            "100% 1.56G/1.56G [00:18<00:00, 92.8MB/s]\n"
          ]
        }
      ],
      "source": [
        "# Fazendo o download do  Conjunto de Dados\n",
        "!kaggle competitions download -c new-york-city-taxi-fare-prediction"
      ]
    },
    {
      "cell_type": "code",
      "execution_count": 11,
      "metadata": {
        "colab": {
          "base_uri": "https://localhost:8080/"
        },
        "id": "uQPuMgb2DhZ1",
        "outputId": "bdb765de-1ef1-48fc-92ab-683f0a2bb3fa"
      },
      "outputs": [
        {
          "output_type": "stream",
          "name": "stdout",
          "text": [
            "Archive:  new-york-city-taxi-fare-prediction.zip\n",
            "  inflating: GCP-Coupons-Instructions.rtf  \n",
            "  inflating: sample_submission.csv   \n",
            "  inflating: test.csv                \n",
            "  inflating: train.csv               \n"
          ]
        }
      ],
      "source": [
        "# Descompactando o Conjunto de Dados\n",
        "!unzip new-york-city-taxi-fare-prediction.zip"
      ]
    },
    {
      "cell_type": "markdown",
      "metadata": {
        "id": "2Egq-S_y2-ug"
      },
      "source": [
        "### **3.2 Importar bibliotecas e conjunto de dados**"
      ]
    },
    {
      "cell_type": "code",
      "execution_count": 12,
      "metadata": {
        "colab": {
          "base_uri": "https://localhost:8080/"
        },
        "id": "fckJu4s8Einl",
        "outputId": "cb089354-1032-4aa1-a03e-2f42d9113480"
      },
      "outputs": [
        {
          "output_type": "stream",
          "name": "stdout",
          "text": [
            "+--------------------+-----------+--------------------+----------------+---------------+-----------------+----------------+---------------+\n",
            "|                 key|fare_amount|     pickup_datetime|pickup_longitude|pickup_latitude|dropoff_longitude|dropoff_latitude|passenger_count|\n",
            "+--------------------+-----------+--------------------+----------------+---------------+-----------------+----------------+---------------+\n",
            "|2009-06-15 17:26:...|        4.5|2009-06-15 17:26:...|      -73.844311|      40.721319|        -73.84161|       40.712278|              1|\n",
            "|2010-01-05 16:52:...|       16.9|2010-01-05 16:52:...|      -74.016048|      40.711303|       -73.979268|       40.782004|              1|\n",
            "|2011-08-18 00:35:...|        5.7|2011-08-18 00:35:...|      -73.982738|       40.76127|       -73.991242|       40.750562|              2|\n",
            "|2012-04-21 04:30:...|        7.7|2012-04-21 04:30:...|       -73.98713|      40.733143|       -73.991567|       40.758092|              1|\n",
            "|2010-03-09 07:51:...|        5.3|2010-03-09 07:51:...|      -73.968095|      40.768008|       -73.956655|       40.783762|              1|\n",
            "|2011-01-06 09:50:...|       12.1|2011-01-06 09:50:...|      -74.000964|       40.73163|       -73.972892|       40.758233|              1|\n",
            "|2012-11-20 20:35:...|        7.5|2012-11-20 20:35:...|      -73.980002|      40.751662|       -73.973802|       40.764842|              1|\n",
            "|2012-01-04 17:22:...|       16.5|2012-01-04 17:22:...|        -73.9513|      40.774138|       -73.990095|       40.751048|              1|\n",
            "|2012-12-03 13:10:...|        9.0|2012-12-03 13:10:...|      -74.006462|      40.726713|       -73.993078|       40.731628|              1|\n",
            "|2009-09-02 01:11:...|        8.9|2009-09-02 01:11:...|      -73.980658|      40.733873|        -73.99154|       40.758138|              2|\n",
            "+--------------------+-----------+--------------------+----------------+---------------+-----------------+----------------+---------------+\n",
            "only showing top 10 rows\n",
            "\n"
          ]
        }
      ],
      "source": [
        "# importando as bibliotecas necessárias\n",
        "from pyspark import *\n",
        "from pyspark.sql import *\n",
        "\n",
        "# carregando um conjunto de dados\n",
        "taxi = (sc.read\n",
        "      .format('csv')\n",
        "      .option('inferSchema',True)\n",
        "      .option('delimiter',',')\n",
        "      .option('header',True)\n",
        "      .load('/content/train.csv')\n",
        ")\n",
        "\n",
        "# Espiando o dataset\n",
        "taxi.show(10)"
      ]
    },
    {
      "cell_type": "markdown",
      "metadata": {
        "id": "MY49rRN2GA__"
      },
      "source": [
        "### Metadados:\n",
        "\n",
        ">  - key: deve ser usado apenas como um campo de ID exclusivo\n",
        ">  - fare_amount: valor em dólares do custo da corrida de táxi (target)\n",
        ">  - pickup_datetime: data/hora que indica quando a corrida de táxi começou\n",
        ">  - pickup_longitude: coordenada de longitude de onde a corrida de táxi começou\n",
        ">  - pickup_latitude: coordenada de latitude de onde a corrida de táxi começou\n",
        ">  - dropoff_longitude: coordenada de longitude de onde a corrida de táxi terminou  \n",
        ">  - dropoff_latitude: coordenada de latitude de onde a corrida de táxi terminou\n",
        ">  - passenger_count: número de passageiros na corrida de táxi"
      ]
    },
    {
      "cell_type": "markdown",
      "metadata": {
        "id": "S-PDJtDtuchx"
      },
      "source": [
        "## **4. Análises preliminares**"
      ]
    },
    {
      "cell_type": "code",
      "execution_count": 13,
      "metadata": {
        "colab": {
          "base_uri": "https://localhost:8080/"
        },
        "id": "p8kicIMAFID-",
        "outputId": "a06eb5af-4695-411f-e57a-6645e9a9994c"
      },
      "outputs": [
        {
          "output_type": "stream",
          "name": "stdout",
          "text": [
            "root\n",
            " |-- key: string (nullable = true)\n",
            " |-- fare_amount: double (nullable = true)\n",
            " |-- pickup_datetime: string (nullable = true)\n",
            " |-- pickup_longitude: double (nullable = true)\n",
            " |-- pickup_latitude: double (nullable = true)\n",
            " |-- dropoff_longitude: double (nullable = true)\n",
            " |-- dropoff_latitude: double (nullable = true)\n",
            " |-- passenger_count: integer (nullable = true)\n",
            "\n"
          ]
        }
      ],
      "source": [
        "# Verificando o Schema\n",
        "taxi.printSchema()"
      ]
    },
    {
      "cell_type": "code",
      "execution_count": 14,
      "metadata": {
        "colab": {
          "base_uri": "https://localhost:8080/"
        },
        "id": "hSOdju5qbPyN",
        "outputId": "856190f0-2629-42df-c2c1-a28ee461cc4a"
      },
      "outputs": [
        {
          "output_type": "execute_result",
          "data": {
            "text/plain": [
              "55423856"
            ]
          },
          "metadata": {},
          "execution_count": 14
        }
      ],
      "source": [
        "# Contando o número de linhas do dataset\n",
        "taxi.count()"
      ]
    },
    {
      "cell_type": "markdown",
      "metadata": {
        "id": "1FXSlI4kv5Ez"
      },
      "source": [
        "- 8 variáveis e 55423856 observações no dataset e a variável fare_amount é a variável alvo.  A variable pickup_datetime precisa ser convertida para o formato date."
      ]
    },
    {
      "cell_type": "code",
      "execution_count": 15,
      "metadata": {
        "colab": {
          "base_uri": "https://localhost:8080/"
        },
        "id": "kKa4WAWogrww",
        "outputId": "91ad93ac-854b-4252-c7eb-2e327addf7d2"
      },
      "outputs": [
        {
          "output_type": "stream",
          "name": "stdout",
          "text": [
            "+-------+------------------+------------------+-----------------+------------------+------------------+------------------+\n",
            "|summary|       fare_amount|  pickup_longitude|  pickup_latitude| dropoff_longitude|  dropoff_latitude|   passenger_count|\n",
            "+-------+------------------+------------------+-----------------+------------------+------------------+------------------+\n",
            "|  count|          55423856|          55423856|         55423856|          55423480|          55423480|          55423856|\n",
            "|   mean|11.345045601663852|-72.50968444358729| 39.9197917868882|-72.51120972971809|39.920681444828844|1.6853799201556816|\n",
            "| stddev|  20.7108321982325| 12.84888338140265|9.642353041994934|12.782196517830771| 9.633345796415124|1.3276643570959683|\n",
            "|    min|            -300.0|      -3442.059565|     -3492.263768|      -3442.024565|      -3547.886698|                 0|\n",
            "|    max|          93963.36|       3457.625683|      3408.789565|        3457.62235|       3537.132528|               208|\n",
            "+-------+------------------+------------------+-----------------+------------------+------------------+------------------+\n",
            "\n"
          ]
        }
      ],
      "source": [
        "# Resumo dos atributos numéricos\n",
        "taxi.describe('fare_amount', 'pickup_longitude', 'pickup_latitude', 'dropoff_longitude', 'dropoff_latitude', 'passenger_count').show()"
      ]
    },
    {
      "cell_type": "markdown",
      "metadata": {
        "id": "jkGy_W_90BaP"
      },
      "source": [
        "- A variável fare_amount e passenger_count apresentam  outliers. A variable dropoff_longitude e dropoff_latitude tem missing values."
      ]
    },
    {
      "cell_type": "markdown",
      "metadata": {
        "id": "vfbuKK903TlK"
      },
      "source": [
        "## **5. Pré-processamento**"
      ]
    },
    {
      "cell_type": "markdown",
      "metadata": {
        "id": "T7X9Mnma4XE4"
      },
      "source": [
        "### **Descarte de variáveis não importantes e conversão da variável pickup_datetime para date**"
      ]
    },
    {
      "cell_type": "code",
      "execution_count": 16,
      "metadata": {
        "colab": {
          "base_uri": "https://localhost:8080/"
        },
        "id": "KT47hawgo2JM",
        "outputId": "75366cf2-1d20-4e4a-d70e-598ad66fff28"
      },
      "outputs": [
        {
          "output_type": "stream",
          "name": "stdout",
          "text": [
            "+-----------+-------------------+----------------+---------------+-----------------+----------------+---------------+\n",
            "|fare_amount|    pickup_datetime|pickup_longitude|pickup_latitude|dropoff_longitude|dropoff_latitude|passenger_count|\n",
            "+-----------+-------------------+----------------+---------------+-----------------+----------------+---------------+\n",
            "|        4.5|2009-06-15 17:26:21|      -73.844311|      40.721319|        -73.84161|       40.712278|              1|\n",
            "|       16.9|2010-01-05 16:52:16|      -74.016048|      40.711303|       -73.979268|       40.782004|              1|\n",
            "|        5.7|2011-08-18 00:35:00|      -73.982738|       40.76127|       -73.991242|       40.750562|              2|\n",
            "|        7.7|2012-04-21 04:30:42|       -73.98713|      40.733143|       -73.991567|       40.758092|              1|\n",
            "|        5.3|2010-03-09 07:51:00|      -73.968095|      40.768008|       -73.956655|       40.783762|              1|\n",
            "+-----------+-------------------+----------------+---------------+-----------------+----------------+---------------+\n",
            "only showing top 5 rows\n",
            "\n"
          ]
        }
      ],
      "source": [
        "from pyspark.sql.functions import *\n",
        "\n",
        "taxi1 = taxi.drop(\"key\")\n",
        "taxi1 = taxi1.withColumn(\"pickup_datetime\", to_timestamp(taxi1.pickup_datetime))\n",
        "taxi1.show(5)"
      ]
    },
    {
      "cell_type": "code",
      "execution_count": 17,
      "metadata": {
        "colab": {
          "base_uri": "https://localhost:8080/"
        },
        "id": "qpxltiBdttef",
        "outputId": "ff5e1f8e-0206-42a0-c832-98d78c530430"
      },
      "outputs": [
        {
          "output_type": "stream",
          "name": "stdout",
          "text": [
            "root\n",
            " |-- fare_amount: double (nullable = true)\n",
            " |-- pickup_datetime: timestamp (nullable = true)\n",
            " |-- pickup_longitude: double (nullable = true)\n",
            " |-- pickup_latitude: double (nullable = true)\n",
            " |-- dropoff_longitude: double (nullable = true)\n",
            " |-- dropoff_latitude: double (nullable = true)\n",
            " |-- passenger_count: integer (nullable = true)\n",
            "\n"
          ]
        }
      ],
      "source": [
        "taxi1.printSchema()"
      ]
    },
    {
      "cell_type": "markdown",
      "metadata": {
        "id": "fVEz0fvt80hm"
      },
      "source": [
        "### **Remoção das linhas com zero passageiros**"
      ]
    },
    {
      "cell_type": "code",
      "execution_count": 18,
      "metadata": {
        "colab": {
          "base_uri": "https://localhost:8080/"
        },
        "id": "Zr3o7RIu8_Hj",
        "outputId": "e2f1ae07-f939-4917-f561-b44fdb9015e2"
      },
      "outputs": [
        {
          "output_type": "stream",
          "name": "stdout",
          "text": [
            "+---------------+--------+\n",
            "|passenger_count|   count|\n",
            "+---------------+--------+\n",
            "|             34|       1|\n",
            "|              1|38337524|\n",
            "|              6| 1174647|\n",
            "|              3| 2432712|\n",
            "|              5| 3929346|\n",
            "|              9|      23|\n",
            "|              4| 1178852|\n",
            "|              8|       9|\n",
            "|             49|       1|\n",
            "|              7|      15|\n",
            "|             51|       1|\n",
            "|            129|       2|\n",
            "|              2| 8175243|\n",
            "|              0|  195416|\n",
            "|            208|      64|\n",
            "+---------------+--------+\n",
            "\n"
          ]
        }
      ],
      "source": [
        "taxi1.groupBy(\"passenger_count\").count().show()"
      ]
    },
    {
      "cell_type": "markdown",
      "metadata": {
        "id": "62miezOy9wEo"
      },
      "source": [
        "- A maioria das entradas no conjunto de dados apresenta uma contagem de passageiros igual a 1. Vamos excluir todas as linhas que tenham mais de um passageiro no conjunto de dados."
      ]
    },
    {
      "cell_type": "code",
      "execution_count": 19,
      "metadata": {
        "colab": {
          "base_uri": "https://localhost:8080/"
        },
        "id": "1s3jwahm1sWZ",
        "outputId": "fe4523c7-a9be-4421-af48-4171fb848913"
      },
      "outputs": [
        {
          "output_type": "stream",
          "name": "stdout",
          "text": [
            "+-----------+-------------------+----------------+---------------+-----------------+----------------+---------------+\n",
            "|fare_amount|    pickup_datetime|pickup_longitude|pickup_latitude|dropoff_longitude|dropoff_latitude|passenger_count|\n",
            "+-----------+-------------------+----------------+---------------+-----------------+----------------+---------------+\n",
            "|        4.5|2009-06-15 17:26:21|      -73.844311|      40.721319|        -73.84161|       40.712278|              1|\n",
            "|       16.9|2010-01-05 16:52:16|      -74.016048|      40.711303|       -73.979268|       40.782004|              1|\n",
            "|        7.7|2012-04-21 04:30:42|       -73.98713|      40.733143|       -73.991567|       40.758092|              1|\n",
            "|        5.3|2010-03-09 07:51:00|      -73.968095|      40.768008|       -73.956655|       40.783762|              1|\n",
            "|       12.1|2011-01-06 09:50:45|      -74.000964|       40.73163|       -73.972892|       40.758233|              1|\n",
            "|        7.5|2012-11-20 20:35:00|      -73.980002|      40.751662|       -73.973802|       40.764842|              1|\n",
            "|       16.5|2012-01-04 17:22:00|        -73.9513|      40.774138|       -73.990095|       40.751048|              1|\n",
            "+-----------+-------------------+----------------+---------------+-----------------+----------------+---------------+\n",
            "only showing top 7 rows\n",
            "\n"
          ]
        }
      ],
      "source": [
        "taxi2=taxi1.filter(\"passenger_count==1\")\n",
        "taxi2.show(7)"
      ]
    },
    {
      "cell_type": "code",
      "execution_count": 20,
      "metadata": {
        "colab": {
          "base_uri": "https://localhost:8080/"
        },
        "id": "vAFtaTs33IJ9",
        "outputId": "4d5c8da0-c311-4cd3-ad30-5f6d92813bb9"
      },
      "outputs": [
        {
          "output_type": "execute_result",
          "data": {
            "text/plain": [
              "38337524"
            ]
          },
          "metadata": {},
          "execution_count": 20
        }
      ],
      "source": [
        "# Contando o número de linhas do dataset taxi2\n",
        "taxi2.count()"
      ]
    },
    {
      "cell_type": "markdown",
      "metadata": {
        "id": "d27X2bxu7yig"
      },
      "source": [
        "### **Detecção de Missing Values e Dados Duplicados**"
      ]
    },
    {
      "cell_type": "code",
      "execution_count": 21,
      "metadata": {
        "colab": {
          "base_uri": "https://localhost:8080/"
        },
        "id": "RdOWE-He488_",
        "outputId": "7082fee3-363b-4d12-a76c-41ce60195da4"
      },
      "outputs": [
        {
          "output_type": "stream",
          "name": "stdout",
          "text": [
            "+-------+------------------+------------------+\n",
            "|summary| dropoff_longitude|  dropoff_latitude|\n",
            "+-------+------------------+------------------+\n",
            "|  count|          38337524|          38337524|\n",
            "|   mean| -72.4957075071462| 39.91499944802372|\n",
            "| stddev|13.562142258782064|10.597292548089198|\n",
            "|    min|      -3442.024565|      -3493.651853|\n",
            "|    max|        3457.62235|        3407.39148|\n",
            "+-------+------------------+------------------+\n",
            "\n"
          ]
        }
      ],
      "source": [
        "# Valores faltantes\n",
        "taxi2.describe('dropoff_longitude', 'dropoff_latitude').show()"
      ]
    },
    {
      "cell_type": "markdown",
      "metadata": {
        "id": "S55vv69S9Peq"
      },
      "source": [
        "- O DataFrame taxi2 sem Dados Faltantes."
      ]
    },
    {
      "cell_type": "code",
      "execution_count": 22,
      "metadata": {
        "colab": {
          "base_uri": "https://localhost:8080/"
        },
        "id": "4hKcbSwt-UjP",
        "outputId": "a04cbd05-77ca-4875-e275-916fc1bc8d86"
      },
      "outputs": [
        {
          "output_type": "stream",
          "name": "stdout",
          "text": [
            "+-----------+-------------------+----------------+---------------+-----------------+----------------+---------------+\n",
            "|fare_amount|    pickup_datetime|pickup_longitude|pickup_latitude|dropoff_longitude|dropoff_latitude|passenger_count|\n",
            "+-----------+-------------------+----------------+---------------+-----------------+----------------+---------------+\n",
            "|        6.1|2009-12-10 15:37:00|      -73.969622|      40.756973|       -73.981152|       40.759712|              1|\n",
            "|       10.5|2012-02-03 13:46:35|      -73.988006|      40.737723|       -73.965699|       40.766095|              1|\n",
            "|        6.5|2010-05-05 19:51:00|      -73.951573|      40.773733|       -73.959827|       40.761932|              1|\n",
            "|       10.1|2010-11-21 01:41:00|        -74.0045|      40.742143|        -73.99433|       40.720412|              1|\n",
            "|       11.0|2014-03-24 20:29:00|       -73.98442|       40.76023|        -73.99426|        40.73891|              1|\n",
            "|       65.5|2014-07-31 14:49:37|      -73.990904|      40.760694|       -74.177083|       40.694982|              1|\n",
            "|        8.9|2010-07-28 07:55:24|       -73.95895|      40.768178|       -73.989289|       40.762854|              1|\n",
            "|        9.7|2012-08-29 10:49:05|      -73.957624|      40.761183|       -73.980624|       40.762867|              1|\n",
            "|       10.5|2011-11-22 13:43:50|      -73.986875|      40.742566|       -73.979594|       40.765416|              1|\n",
            "|        4.9|2012-01-21 06:21:19|      -73.936678|         40.814|       -73.936297|       40.807294|              1|\n",
            "+-----------+-------------------+----------------+---------------+-----------------+----------------+---------------+\n",
            "only showing top 10 rows\n",
            "\n"
          ]
        }
      ],
      "source": [
        "# Dados Duplicados\n",
        "taxi3=taxi2.distinct()\n",
        "taxi3.show(10)"
      ]
    },
    {
      "cell_type": "code",
      "execution_count": 23,
      "metadata": {
        "colab": {
          "base_uri": "https://localhost:8080/"
        },
        "id": "pZ0E9a_HAiI-",
        "outputId": "ca4c106e-536e-457c-ae06-ab9f385d9a10"
      },
      "outputs": [
        {
          "output_type": "execute_result",
          "data": {
            "text/plain": [
              "38336063"
            ]
          },
          "metadata": {},
          "execution_count": 23
        }
      ],
      "source": [
        "# Contando o número de linhas\n",
        "taxi3.count()"
      ]
    },
    {
      "cell_type": "markdown",
      "metadata": {
        "id": "EGB5ylZ6Cdbt"
      },
      "source": [
        "- O DataFrame taxi2 apresentava 1461 registros duplicados."
      ]
    },
    {
      "cell_type": "markdown",
      "metadata": {
        "id": "rjD8z55BFFvc"
      },
      "source": [
        "### **Criando novas colunas de dados a partir das informações contidas em outras colunas**"
      ]
    },
    {
      "cell_type": "markdown",
      "metadata": {
        "id": "d29EAGCWGf4x"
      },
      "source": [
        "- Dia: dia da semana (1=segunda-feira, 2=terça-feira e assim por diante).\n",
        "- hora: Hora do dia em que o passageiro foi pego (0–23 horas).\n",
        "- distancia: A distância (pelo ar, não na rua) em milhas percorridas pelo passeio.Para calcular distâncias, este código assume que a maioria dos passeios são curtos e que, portanto, é seguro ignorar a curvatura do Terra.\n",
        "$d =  \\sqrt{ x^2 + y^2} $\n",
        "- Um grau de latitude equivale a aproximadamente 69 milhas e um grau de longitude é igual 54,6 milhas (é possível calcular distância usando a fórmula de haversine)."
      ]
    },
    {
      "cell_type": "code",
      "execution_count": 24,
      "metadata": {
        "colab": {
          "base_uri": "https://localhost:8080/"
        },
        "id": "WGENb9UTI9EA",
        "outputId": "34f20f5a-f833-4a36-e0d3-0c29b0b118b4"
      },
      "outputs": [
        {
          "output_type": "stream",
          "name": "stdout",
          "text": [
            "+-----------+-------------------+----------------+---------------+-----------------+----------------+---------------+---+----+\n",
            "|fare_amount|    pickup_datetime|pickup_longitude|pickup_latitude|dropoff_longitude|dropoff_latitude|passenger_count|Dia|hora|\n",
            "+-----------+-------------------+----------------+---------------+-----------------+----------------+---------------+---+----+\n",
            "|        6.1|2009-12-10 15:37:00|      -73.969622|      40.756973|       -73.981152|       40.759712|              1|  5|  15|\n",
            "|       10.5|2012-02-03 13:46:35|      -73.988006|      40.737723|       -73.965699|       40.766095|              1|  6|  13|\n",
            "|        6.5|2010-05-05 19:51:00|      -73.951573|      40.773733|       -73.959827|       40.761932|              1|  4|  19|\n",
            "|       10.1|2010-11-21 01:41:00|        -74.0045|      40.742143|        -73.99433|       40.720412|              1|  1|   1|\n",
            "|       11.0|2014-03-24 20:29:00|       -73.98442|       40.76023|        -73.99426|        40.73891|              1|  2|  20|\n",
            "+-----------+-------------------+----------------+---------------+-----------------+----------------+---------------+---+----+\n",
            "only showing top 5 rows\n",
            "\n"
          ]
        }
      ],
      "source": [
        "from pyspark.sql import functions as f\n",
        "taxi3 = taxi3.withColumn(\"Dia\", f.dayofweek(\"pickup_datetime\"))\n",
        "taxi3 = taxi3.withColumn(\"hora\", f.hour(\"pickup_datetime\"))\n",
        "taxi3.show(5)"
      ]
    },
    {
      "cell_type": "code",
      "execution_count": 25,
      "metadata": {
        "colab": {
          "base_uri": "https://localhost:8080/"
        },
        "id": "GjWZPjragGar",
        "outputId": "172d086b-f02c-4405-a184-37287bc4a480"
      },
      "outputs": [
        {
          "output_type": "stream",
          "name": "stdout",
          "text": [
            "+-----------+-------------------+----------------+---------------+-----------------+----------------+---------------+---+----+------------------+\n",
            "|fare_amount|    pickup_datetime|pickup_longitude|pickup_latitude|dropoff_longitude|dropoff_latitude|passenger_count|Dia|hora|         distancia|\n",
            "+-----------+-------------------+----------------+---------------+-----------------+----------------+---------------+---+----+------------------+\n",
            "|        6.1|2009-12-10 15:37:00|      -73.969622|      40.756973|       -73.981152|       40.759712|              1|  5|  15|0.6572942199080255|\n",
            "|       10.5|2012-02-03 13:46:35|      -73.988006|      40.737723|       -73.965699|       40.766095|              1|  6|  13|2.3056226748650466|\n",
            "|        6.5|2010-05-05 19:51:00|      -73.951573|      40.773733|       -73.959827|       40.761932|              1|  4|  19|0.9306642848631145|\n",
            "|       10.1|2010-11-21 01:41:00|        -74.0045|      40.742143|        -73.99433|       40.720412|              1|  1|   1|1.5989544753504845|\n",
            "|       11.0|2014-03-24 20:29:00|       -73.98442|       40.76023|        -73.99426|        40.73891|              1|  2|  20|1.5661190797945121|\n",
            "+-----------+-------------------+----------------+---------------+-----------------+----------------+---------------+---+----+------------------+\n",
            "only showing top 5 rows\n",
            "\n"
          ]
        }
      ],
      "source": [
        "from pyspark.sql.functions import col\n",
        "taxi4=taxi3.withColumn(\"distancia\", (((col(\"dropoff_longitude\")-col(\"pickup_longitude\"))*54.6)**2+((col(\"dropoff_latitude\")-col(\"pickup_latitude\"))*69)**2)**0.5)\n",
        "taxi4.show(5)"
      ]
    },
    {
      "cell_type": "markdown",
      "metadata": {
        "id": "fOznYEdYIWT-"
      },
      "source": [
        "### **Seleção das colunas que são necessárias**"
      ]
    },
    {
      "cell_type": "code",
      "execution_count": 26,
      "metadata": {
        "colab": {
          "base_uri": "https://localhost:8080/"
        },
        "id": "FiaYRc5YqsEp",
        "outputId": "ad7044ab-39fb-4f63-ee7d-18e044ca019a"
      },
      "outputs": [
        {
          "output_type": "stream",
          "name": "stdout",
          "text": [
            "+-----------+---+----+------------------+\n",
            "|fare_amount|Dia|hora|         distancia|\n",
            "+-----------+---+----+------------------+\n",
            "|        6.1|  5|  15|0.6572942199080255|\n",
            "|       10.5|  6|  13|2.3056226748650466|\n",
            "|        6.5|  4|  19|0.9306642848631145|\n",
            "|       10.1|  1|   1|1.5989544753504845|\n",
            "|       11.0|  2|  20|1.5661190797945121|\n",
            "+-----------+---+----+------------------+\n",
            "only showing top 5 rows\n",
            "\n"
          ]
        }
      ],
      "source": [
        "taxi_df=taxi4.select(\"fare_amount\", \"Dia\", \"hora\", \"distancia\")\n",
        "taxi_df.show(5)"
      ]
    },
    {
      "cell_type": "markdown",
      "metadata": {
        "id": "fdRkEQgjKpqn"
      },
      "source": [
        "### **Detecção e tratamento de outliers**"
      ]
    },
    {
      "cell_type": "code",
      "execution_count": 27,
      "metadata": {
        "colab": {
          "base_uri": "https://localhost:8080/"
        },
        "id": "qESdEl56qb2B",
        "outputId": "44736d8e-8c8f-4e50-8972-7813c5b62b6a"
      },
      "outputs": [
        {
          "output_type": "stream",
          "name": "stdout",
          "text": [
            "+-------+-----------+\n",
            "|summary|fare_amount|\n",
            "+-------+-----------+\n",
            "|    min|     -300.0|\n",
            "|   2.5%|        3.7|\n",
            "|    25%|        6.0|\n",
            "|    50%|        8.5|\n",
            "|    75%|       12.5|\n",
            "|  97.5%|      41.33|\n",
            "|    max|   75747.02|\n",
            "+-------+-----------+\n",
            "\n"
          ]
        }
      ],
      "source": [
        "# Target fare_amount\n",
        "taxi_df.select('fare_amount').summary(\"min\", \"2.5%\",\"25%\", \"50%\",\"75%\", \"97.5%\",\"max\").show()"
      ]
    },
    {
      "cell_type": "markdown",
      "metadata": {
        "id": "9OKU8STSJqfM"
      },
      "source": [
        "- O limite superior será determinado pelo valor do quantil 97.5%, enquanto o limite inferior será definido pelo valor do quantil 2.5%."
      ]
    },
    {
      "cell_type": "code",
      "execution_count": 28,
      "metadata": {
        "colab": {
          "base_uri": "https://localhost:8080/"
        },
        "id": "pJtIw_zqtAdW",
        "outputId": "69f19a92-95ed-46ca-c561-f84a41134a52"
      },
      "outputs": [
        {
          "output_type": "stream",
          "name": "stdout",
          "text": [
            "+-------+------------------+\n",
            "|summary|         distancia|\n",
            "+-------+------------------+\n",
            "|    min|               0.0|\n",
            "|   2.5%|               0.0|\n",
            "|    25%|  0.76078843451035|\n",
            "|    50%|1.3226228575568202|\n",
            "|    75%| 2.402275223117913|\n",
            "|  97.5%| 9.241994421497436|\n",
            "|    max|493784.04604772385|\n",
            "+-------+------------------+\n",
            "\n"
          ]
        }
      ],
      "source": [
        "# Feature distancia\n",
        "taxi_df.select('distancia').summary(\"min\", \"2.5%\",\"25%\", \"50%\",\"75%\", \"97.5%\",\"max\").show()"
      ]
    },
    {
      "cell_type": "markdown",
      "metadata": {
        "id": "1zNNSWRjPL7U"
      },
      "source": [
        "### **Com base na detecção de outliers, estão sendo aplicados limites razoáveis às tarifas e distâncias**"
      ]
    },
    {
      "cell_type": "code",
      "execution_count": 29,
      "metadata": {
        "colab": {
          "base_uri": "https://localhost:8080/"
        },
        "id": "2MlFHz9Du4A4",
        "outputId": "79904051-f89b-4e4d-efe8-bd0a85dba061"
      },
      "outputs": [
        {
          "output_type": "stream",
          "name": "stdout",
          "text": [
            "+-----------+---+----+------------------+\n",
            "|fare_amount|Dia|hora|         distancia|\n",
            "+-----------+---+----+------------------+\n",
            "|        6.1|  5|  15|0.6572942199080255|\n",
            "|       10.5|  6|  13|2.3056226748650466|\n",
            "|        6.5|  4|  19|0.9306642848631145|\n",
            "|       10.1|  1|   1|1.5989544753504845|\n",
            "|       11.0|  2|  20|1.5661190797945121|\n",
            "|        8.9|  4|   7|1.6967539076200955|\n",
            "|        9.7|  4|  10| 1.261164204383147|\n",
            "|       10.5|  3|  13|1.6259967224184602|\n",
            "|        4.9|  7|   6|0.4631813834372527|\n",
            "|        5.3|  2|  22|1.4574025511446298|\n",
            "+-----------+---+----+------------------+\n",
            "only showing top 10 rows\n",
            "\n"
          ]
        }
      ],
      "source": [
        "taxi_df1=taxi_df.filter((taxi_df.distancia>0) & (taxi_df.distancia<10) & (taxi_df.fare_amount>3) & (taxi_df.fare_amount<45))\n",
        "taxi_df1.show(10)"
      ]
    },
    {
      "cell_type": "code",
      "execution_count": 30,
      "metadata": {
        "colab": {
          "base_uri": "https://localhost:8080/"
        },
        "id": "01bjC-luOeLm",
        "outputId": "0f926e53-e856-41b9-a3f9-a0f561a4ccd4"
      },
      "outputs": [
        {
          "output_type": "stream",
          "name": "stdout",
          "text": [
            "+-----------+---+----+------------------+\n",
            "|fare_amount|Dia|hora|         distancia|\n",
            "+-----------+---+----+------------------+\n",
            "|        9.0|  3|   9|0.9866485608659631|\n",
            "|        6.5|  6|  19|0.6022288812104362|\n",
            "|       15.3|  5|   9|1.3171878319224541|\n",
            "|        5.7|  7|  22|0.5860206781177603|\n",
            "|        7.3|  5|  17|0.7172431424677226|\n",
            "+-----------+---+----+------------------+\n",
            "only showing top 5 rows\n",
            "\n"
          ]
        }
      ],
      "source": [
        "# Removendo as linhas duplicadas do DataFrame chamado \"taxi_df1\".\n",
        "tarifas=taxi_df1.distinct()\n",
        "tarifas.show(5)"
      ]
    },
    {
      "cell_type": "code",
      "execution_count": 31,
      "metadata": {
        "colab": {
          "base_uri": "https://localhost:8080/"
        },
        "id": "rmhEYzlWQaqu",
        "outputId": "e88a96f8-129f-480a-a356-ad9e01456ed2"
      },
      "outputs": [
        {
          "output_type": "execute_result",
          "data": {
            "text/plain": [
              "35897732"
            ]
          },
          "metadata": {},
          "execution_count": 31
        }
      ],
      "source": [
        "# Contando o número de linhas\n",
        "tarifas.count()"
      ]
    },
    {
      "cell_type": "markdown",
      "metadata": {
        "id": "LPlD4E8-TSrK"
      },
      "source": [
        "### **# Analisar  a influência das variáveis de entrada, nos valores da variable alvo fare_amount**"
      ]
    },
    {
      "cell_type": "code",
      "execution_count": 32,
      "metadata": {
        "colab": {
          "base_uri": "https://localhost:8080/"
        },
        "id": "VXFo4r_5uJ6Q",
        "outputId": "43389f0a-1825-447a-dcc3-8ab3081189a3"
      },
      "outputs": [
        {
          "output_type": "stream",
          "name": "stdout",
          "text": [
            "[[1.0, 0.0005149824712395955, -0.014327301999635517, 0.8762515296410246], [0.0005149824712395955, 1.0, 0.0115453568962633, -0.015460258279181089], [-0.014327301999635517, 0.0115453568962633, 1.0, -0.03517501294358808], [0.8762515296410246, -0.015460258279181089, -0.03517501294358808, 1.0]]\n"
          ]
        }
      ],
      "source": [
        "from pyspark.ml.stat import Correlation\n",
        "from pyspark.ml.feature import VectorAssembler\n",
        "\n",
        "vector_col=\"corr-features\"\n",
        "assembler=VectorAssembler(inputCols=tarifas.columns, outputCol=vector_col)\n",
        "df_vector=assembler.transform(tarifas).select(vector_col)\n",
        "matrix= Correlation.corr(df_vector, vector_col).collect()[0][0]\n",
        "corrmatrix = matrix.toArray().tolist()\n",
        "print(corrmatrix)"
      ]
    },
    {
      "cell_type": "markdown",
      "metadata": {
        "id": "2dL8Ka99ZWl9"
      },
      "source": [
        "- Há uma correlação significativa de aproximadamente 0.87 entre a distância percorrida e o valor da tarifa.\n",
        "- A correlação entre o dia da semana, a hora do dia e o valor da tarifa é fraca, mas optaremos por manter essas colunas.\n",
        "\n",
        "\n",
        "\n",
        "\n",
        "\n"
      ]
    },
    {
      "cell_type": "markdown",
      "metadata": {
        "id": "0t8t_73lYWU5"
      },
      "source": [
        "### **Criando uma coluna com todas as preditoras em novo dataset**"
      ]
    },
    {
      "cell_type": "code",
      "execution_count": 33,
      "metadata": {
        "id": "rFIRbhukBkHr"
      },
      "outputs": [],
      "source": [
        "# criando uma coluna com todas as preditoras\n",
        "from pyspark.ml.linalg import Vectors\n",
        "from pyspark.ml.feature import VectorAssembler\n",
        "\n",
        "# Definindo as preditoras\n",
        "def_preditoras = VectorAssembler(\n",
        "    inputCols=[\n",
        "    'Dia',\n",
        "    'hora',\n",
        "    'distancia'],\n",
        "    outputCol= 'preditoras'\n",
        ")"
      ]
    },
    {
      "cell_type": "code",
      "execution_count": 34,
      "metadata": {
        "colab": {
          "base_uri": "https://localhost:8080/"
        },
        "id": "QDsBbY_yEEy-",
        "outputId": "b0b16552-3b8d-47b3-fd8f-a94740810aae"
      },
      "outputs": [
        {
          "output_type": "stream",
          "name": "stdout",
          "text": [
            "+-----------+---+----+------------------+--------------------+\n",
            "|fare_amount|Dia|hora|         distancia|          preditoras|\n",
            "+-----------+---+----+------------------+--------------------+\n",
            "|        9.0|  3|   9|0.9866485608659631|[3.0,9.0,0.986648...|\n",
            "|        6.5|  6|  19|0.6022288812104362|[6.0,19.0,0.60222...|\n",
            "|       15.3|  5|   9|1.3171878319224541|[5.0,9.0,1.317187...|\n",
            "|        5.7|  7|  22|0.5860206781177603|[7.0,22.0,0.58602...|\n",
            "|        7.3|  5|  17|0.7172431424677226|[5.0,17.0,0.71724...|\n",
            "|       12.9|  5|   9|3.2199467569510154|[5.0,9.0,3.219946...|\n",
            "|        6.1|  5|   2|1.5567447425707963|[5.0,2.0,1.556744...|\n",
            "|        5.0|  5|   6|0.6312142104932869|[5.0,6.0,0.631214...|\n",
            "|       18.1|  3|  15|  5.22557259896926|[3.0,15.0,5.22557...|\n",
            "|        7.0|  3|   8|0.6090583001039429|[3.0,8.0,0.609058...|\n",
            "|       12.9|  2|  14|2.8208689400829297|[2.0,14.0,2.82086...|\n",
            "|        6.1|  5|  21|0.9024410043654625|[5.0,21.0,0.90244...|\n",
            "|        7.3|  7|   0|0.7105404761469086|[7.0,0.0,0.710540...|\n",
            "|        6.5|  4|  16|0.7347084674359677|[4.0,16.0,0.73470...|\n",
            "|        6.5|  5|  11|0.8663691622995912|[5.0,11.0,0.86636...|\n",
            "|       11.0|  5|  21| 2.379459602287095|[5.0,21.0,2.37945...|\n",
            "|        4.5|  1|  15|0.5882418559054535|[1.0,15.0,0.58824...|\n",
            "|       16.9|  1|  13| 4.709903882688082|[1.0,13.0,4.70990...|\n",
            "|        4.1|  3|  15|0.5170808106430459|[3.0,15.0,0.51708...|\n",
            "|        4.5|  5|  21|0.3710118043499467|[5.0,21.0,0.37101...|\n",
            "+-----------+---+----+------------------+--------------------+\n",
            "only showing top 20 rows\n",
            "\n"
          ]
        }
      ],
      "source": [
        "tarifas1 = def_preditoras.transform(tarifas)\n",
        "tarifas1.show()"
      ]
    },
    {
      "cell_type": "code",
      "execution_count": 35,
      "metadata": {
        "colab": {
          "base_uri": "https://localhost:8080/"
        },
        "id": "jYdps_50KfD4",
        "outputId": "3e7a181b-dbeb-40f8-b65c-2376e41c1da6"
      },
      "outputs": [
        {
          "output_type": "stream",
          "name": "stdout",
          "text": [
            "root\n",
            " |-- fare_amount: double (nullable = true)\n",
            " |-- Dia: integer (nullable = true)\n",
            " |-- hora: integer (nullable = true)\n",
            " |-- distancia: double (nullable = true)\n",
            " |-- preditoras: vector (nullable = true)\n",
            "\n"
          ]
        }
      ],
      "source": [
        "tarifas1.printSchema()"
      ]
    },
    {
      "cell_type": "code",
      "execution_count": 36,
      "metadata": {
        "colab": {
          "base_uri": "https://localhost:8080/"
        },
        "id": "JCXYqRiEEfuC",
        "outputId": "c40ace36-51d6-41cd-f337-97ad4a95b9a6"
      },
      "outputs": [
        {
          "output_type": "execute_result",
          "data": {
            "text/plain": [
              "[Row(preditoras=DenseVector([3.0, 9.0, 0.9866])),\n",
              " Row(preditoras=DenseVector([6.0, 19.0, 0.6022])),\n",
              " Row(preditoras=DenseVector([5.0, 9.0, 1.3172])),\n",
              " Row(preditoras=DenseVector([7.0, 22.0, 0.586])),\n",
              " Row(preditoras=DenseVector([5.0, 17.0, 0.7172]))]"
            ]
          },
          "metadata": {},
          "execution_count": 36
        }
      ],
      "source": [
        "tarifas1.select( 'preditoras').head(5)"
      ]
    },
    {
      "cell_type": "markdown",
      "metadata": {
        "id": "RBSZV_AXbmr_"
      },
      "source": [
        "### **Pegando somente os atributos que serao utilizados na modelagem**"
      ]
    },
    {
      "cell_type": "code",
      "execution_count": 37,
      "metadata": {
        "colab": {
          "base_uri": "https://localhost:8080/"
        },
        "id": "__BVmwuEFrch",
        "outputId": "b18e70cd-f65a-4390-94c8-08a16fcec763"
      },
      "outputs": [
        {
          "output_type": "stream",
          "name": "stdout",
          "text": [
            "+-----------+--------------------+\n",
            "|fare_amount|          preditoras|\n",
            "+-----------+--------------------+\n",
            "|        9.0|[3.0,9.0,0.986648...|\n",
            "|        6.5|[6.0,19.0,0.60222...|\n",
            "|       15.3|[5.0,9.0,1.317187...|\n",
            "|        5.7|[7.0,22.0,0.58602...|\n",
            "|        7.3|[5.0,17.0,0.71724...|\n",
            "|       12.9|[5.0,9.0,3.219946...|\n",
            "|        6.1|[5.0,2.0,1.556744...|\n",
            "|        5.0|[5.0,6.0,0.631214...|\n",
            "|       18.1|[3.0,15.0,5.22557...|\n",
            "|        7.0|[3.0,8.0,0.609058...|\n",
            "|       12.9|[2.0,14.0,2.82086...|\n",
            "|        6.1|[5.0,21.0,0.90244...|\n",
            "|        7.3|[7.0,0.0,0.710540...|\n",
            "|        6.5|[4.0,16.0,0.73470...|\n",
            "|        6.5|[5.0,11.0,0.86636...|\n",
            "|       11.0|[5.0,21.0,2.37945...|\n",
            "|        4.5|[1.0,15.0,0.58824...|\n",
            "|       16.9|[1.0,13.0,4.70990...|\n",
            "|        4.1|[3.0,15.0,0.51708...|\n",
            "|        4.5|[5.0,21.0,0.37101...|\n",
            "+-----------+--------------------+\n",
            "only showing top 20 rows\n",
            "\n"
          ]
        }
      ],
      "source": [
        "tarifas_ml= tarifas1.select('fare_amount', 'preditoras')\n",
        "\n",
        "# Espiando dataset final\n",
        "tarifas_ml.show()"
      ]
    },
    {
      "cell_type": "markdown",
      "metadata": {
        "id": "ddo_fcePc38C"
      },
      "source": [
        "## **6. Treinamento dos modelos**"
      ]
    },
    {
      "cell_type": "markdown",
      "metadata": {
        "id": "1bbYhXtLPMts"
      },
      "source": [
        "### **6.1 Dividindo o dataset entre treino e teste**"
      ]
    },
    {
      "cell_type": "code",
      "execution_count": 38,
      "metadata": {
        "id": "cUcBEi0sG0zw"
      },
      "outputs": [],
      "source": [
        "taxi_treino, taxi_teste = tarifas_ml.randomSplit([.8,.2], seed=7)"
      ]
    },
    {
      "cell_type": "markdown",
      "metadata": {
        "id": "xgjaOOHDPX0e"
      },
      "source": [
        "### **6.2 Regressão Linear**"
      ]
    },
    {
      "cell_type": "code",
      "execution_count": 39,
      "metadata": {
        "id": "2O-N15aGH_RE"
      },
      "outputs": [],
      "source": [
        "from pyspark.ml.regression import LinearRegression\n",
        "from pyspark.mllib.evaluation import RegressionMetrics"
      ]
    },
    {
      "cell_type": "code",
      "execution_count": 40,
      "metadata": {
        "id": "kzdnkdZ6IL73"
      },
      "outputs": [],
      "source": [
        "# Definindo o modelo de regressão\n",
        "rl = LinearRegression(\n",
        "    featuresCol='preditoras',\n",
        "    labelCol= 'fare_amount',\n",
        "    predictionCol='fare_amount_pred'\n",
        ")"
      ]
    },
    {
      "cell_type": "code",
      "execution_count": 41,
      "metadata": {
        "id": "BqENK4LjIWLS"
      },
      "outputs": [],
      "source": [
        "# Treinando o modeo\n",
        "modelo_rl = rl.fit(taxi_treino)"
      ]
    },
    {
      "cell_type": "code",
      "execution_count": 42,
      "metadata": {
        "colab": {
          "base_uri": "https://localhost:8080/"
        },
        "id": "_doAKN8GIdGR",
        "outputId": "3d3bf7b2-3a77-408b-e2f0-4e3bf4a0a3bf"
      },
      "outputs": [
        {
          "output_type": "stream",
          "name": "stdout",
          "text": [
            "RMSE: 3.1037888787562005\n",
            "MAE: 1.9938771038378\n",
            "R2: 0.7683425245440496\n"
          ]
        }
      ],
      "source": [
        "# Verificando as métricas da qualidade do ajuste do modelo através\n",
        "# do atributo LinearRegressionModel.summary\n",
        "\n",
        "print(\"RMSE: {0}\".format(modelo_rl.summary.rootMeanSquaredError))\n",
        "print(\"MAE: {0}\".format(modelo_rl.summary.meanAbsoluteError))\n",
        "print(\"R2: {0}\".format(modelo_rl.summary.r2))"
      ]
    },
    {
      "cell_type": "code",
      "execution_count": 43,
      "metadata": {
        "id": "AwyIhfDuL6rh"
      },
      "outputs": [],
      "source": [
        "# Ajustando o modelo aos dados de teste\n",
        "modelo_rl_pred = modelo_rl.transform(taxi_teste)"
      ]
    },
    {
      "cell_type": "code",
      "execution_count": 44,
      "metadata": {
        "colab": {
          "base_uri": "https://localhost:8080/"
        },
        "id": "TH8LGQhzW1se",
        "outputId": "e2c3d7dc-4aa7-40ee-fed9-fe63a5c026ff"
      },
      "outputs": [
        {
          "output_type": "stream",
          "name": "stdout",
          "text": [
            "+------------------+-----------+\n",
            "|  fare_amount_pred|fare_amount|\n",
            "+------------------+-----------+\n",
            "| 4.393108197439274|        3.3|\n",
            "|3.8962150716554684|        3.3|\n",
            "| 4.257345336755085|        3.3|\n",
            "| 4.377392410883911|        3.3|\n",
            "| 5.040105872213397|        3.3|\n",
            "| 5.399141238331736|        3.3|\n",
            "| 3.931512083231464|        3.3|\n",
            "| 4.233510659159725|        3.3|\n",
            "| 4.426253884814156|        3.3|\n",
            "| 4.522401494231135|        3.3|\n",
            "|  4.05249246165571|        3.3|\n",
            "| 3.636638294888405|        3.3|\n",
            "| 4.138561524449731|        3.3|\n",
            "| 4.823895102853837|        3.3|\n",
            "| 5.516573108757559|        3.3|\n",
            "|4.9613018922573735|        3.3|\n",
            "| 4.583508119401037|        3.3|\n",
            "| 4.670403517123431|        3.3|\n",
            "| 4.742615367285026|        3.3|\n",
            "| 4.846394509520472|        3.3|\n",
            "+------------------+-----------+\n",
            "only showing top 20 rows\n",
            "\n"
          ]
        }
      ],
      "source": [
        "# Selecionando a coluna das tarifas preditas e observadas\n",
        "predita_observada = modelo_rl_pred.select('fare_amount_pred','fare_amount')\n",
        "predita_observada.show()"
      ]
    },
    {
      "cell_type": "code",
      "execution_count": 45,
      "metadata": {
        "colab": {
          "base_uri": "https://localhost:8080/"
        },
        "id": "uZfGW0svOVip",
        "outputId": "8c2b5b7b-223e-4957-aef3-79db1ff1c56e"
      },
      "outputs": [
        {
          "output_type": "stream",
          "name": "stdout",
          "text": [
            "RMSE: 3.104511574284895\n",
            "MAE: 1.9938971603810265\n",
            "R2: 0.7680392918679897\n"
          ]
        }
      ],
      "source": [
        "# Verificando as métricas da qualidade do ajuste do modelo através\n",
        "# do RegressionEvaluator do pacote pyspark.ml\n",
        "\n",
        "from pyspark.mllib.evaluation import RegressionMetrics\n",
        "\n",
        "# mllib is old so the methods are available in rdd\n",
        "metricas_modelo_rl = RegressionMetrics(predita_observada.rdd)\n",
        "\n",
        "print(\"RMSE: {0}\".format(metricas_modelo_rl.rootMeanSquaredError))\n",
        "print(\"MAE: {0}\".format(metricas_modelo_rl.meanAbsoluteError))\n",
        "print(\"R2: {0}\".format(metricas_modelo_rl.r2))"
      ]
    },
    {
      "cell_type": "markdown",
      "source": [
        "- O modelo está errando mais ou menos 3.10 dólares e 1.99 dólares em termos absolutos."
      ],
      "metadata": {
        "id": "jR-7aBDvg9Xn"
      }
    },
    {
      "cell_type": "markdown",
      "metadata": {
        "id": "R_NADrz4WVbv"
      },
      "source": [
        "### **6.3 Árvores de Decisão**"
      ]
    },
    {
      "cell_type": "code",
      "execution_count": 46,
      "metadata": {
        "id": "8_XPKCE_TM2j"
      },
      "outputs": [],
      "source": [
        "from pyspark.ml.regression import DecisionTreeRegressor"
      ]
    },
    {
      "cell_type": "code",
      "execution_count": 47,
      "metadata": {
        "id": "Cactxn0O1XV2"
      },
      "outputs": [],
      "source": [
        "# definindo a árvore\n",
        "dt= DecisionTreeRegressor(\n",
        "    featuresCol='preditoras',\n",
        "    labelCol='fare_amount',\n",
        "    predictionCol='fare_amount_pred',\n",
        "    maxDepth=5)"
      ]
    },
    {
      "cell_type": "code",
      "execution_count": 48,
      "metadata": {
        "id": "-LQOCy2q1sre"
      },
      "outputs": [],
      "source": [
        "# Treinando a árvore\n",
        "modelo_dt = dt.fit(taxi_treino)"
      ]
    },
    {
      "cell_type": "code",
      "execution_count": 49,
      "metadata": {
        "id": "BUrVHfl72DEF"
      },
      "outputs": [],
      "source": [
        "# Ajustando a árvore aos dados de teste\n",
        "modelo_dt_pred = modelo_dt.transform(taxi_teste)"
      ]
    },
    {
      "cell_type": "code",
      "execution_count": 50,
      "metadata": {
        "colab": {
          "base_uri": "https://localhost:8080/"
        },
        "id": "TKRbr04D6QWI",
        "outputId": "5b06c0d3-c525-47dc-933e-c7bed7d531e9"
      },
      "outputs": [
        {
          "output_type": "stream",
          "name": "stdout",
          "text": [
            "+-----------------+-----------+\n",
            "| fare_amount_pred|fare_amount|\n",
            "+-----------------+-----------+\n",
            "|5.234503798511104|        3.3|\n",
            "|5.929158660861576|        3.3|\n",
            "|5.929158660861576|        3.3|\n",
            "|5.234503798511104|        3.3|\n",
            "|5.234503798511104|        3.3|\n",
            "|5.234503798511104|        3.3|\n",
            "|5.929158660861576|        3.3|\n",
            "|5.929158660861576|        3.3|\n",
            "|5.234503798511104|        3.3|\n",
            "|5.234503798511104|        3.3|\n",
            "+-----------------+-----------+\n",
            "only showing top 10 rows\n",
            "\n"
          ]
        }
      ],
      "source": [
        "# Selecionando a coluna das tarifas preditas e observadas\n",
        "predita_observada = modelo_dt_pred.select('fare_amount_pred','fare_amount')\n",
        "predita_observada.show(10)"
      ]
    },
    {
      "cell_type": "code",
      "execution_count": 51,
      "metadata": {
        "colab": {
          "base_uri": "https://localhost:8080/"
        },
        "id": "AkJF50mU78yA",
        "outputId": "70073998-33f3-4531-9926-11cd31b3dce9"
      },
      "outputs": [
        {
          "output_type": "stream",
          "name": "stdout",
          "text": [
            "RMSE: 3.0534098496063793\n",
            "MAE: 1.9792927414948807\n",
            "R2: 0.7756128080894685\n"
          ]
        }
      ],
      "source": [
        "# Calculando as métricas\n",
        "metricas_modelo_dt = RegressionMetrics(predita_observada.rdd)\n",
        "\n",
        "# Calculando as métricas\n",
        "print(\"RMSE: {0}\".format(metricas_modelo_dt.rootMeanSquaredError))\n",
        "print(\"MAE: {0}\".format(metricas_modelo_dt.meanAbsoluteError))\n",
        "print(\"R2: {0}\".format(metricas_modelo_dt.r2))"
      ]
    },
    {
      "cell_type": "markdown",
      "source": [
        "- O modelo está errando mais ou menos 3.05 dólares e 1.97 dólares em termos absolutos. No entanto, em comparação com o modelo anterior, o desempenho deste modelo é um pouco melhor."
      ],
      "metadata": {
        "id": "IEKMQE8wpSTn"
      }
    },
    {
      "cell_type": "markdown",
      "metadata": {
        "id": "orlLxV55Xs16"
      },
      "source": [
        "## **7. Utilizando o modelo para prever os valores das tarifas**"
      ]
    },
    {
      "cell_type": "markdown",
      "metadata": {
        "id": "HvJGwAFzYc_9"
      },
      "source": [
        "- Prevendo o valor da tarifa para uma viagem de 3 milhas feita às 16:00 no dia sábado.\n",
        "- Prevendo o valor da tarifa para uma viagem de 8 milhas feita às 11:00 a.m. na segunda-feira.\n",
        "- Prevendo o valor da tarifa para uma viagem de 2 milhas feita às 17:00  na sexta-feira.\n",
        "- Prevendo o valor da tarifa para uma viagem de 2 milhas feita às 17:00  no dia sábado."
      ]
    },
    {
      "cell_type": "code",
      "execution_count": 52,
      "metadata": {
        "colab": {
          "base_uri": "https://localhost:8080/"
        },
        "id": "NVw3tPZv8AV9",
        "outputId": "2662fd96-b8f0-4025-b541-3d98efa4e786"
      },
      "outputs": [
        {
          "output_type": "stream",
          "name": "stdout",
          "text": [
            "+---+----+---------+\n",
            "|Dia|hora|distancia|\n",
            "+---+----+---------+\n",
            "|  6|  16|        3|\n",
            "|  1|  11|        8|\n",
            "|  5|  17|        2|\n",
            "|  6|  17|        2|\n",
            "+---+----+---------+\n",
            "\n"
          ]
        }
      ],
      "source": [
        "# Criando o DataFrame\n",
        "df = sc.createDataFrame([\n",
        "    Row(Dia=6, hora=16, distancia= 3),\n",
        "    Row(Dia=1, hora=11, distancia= 8),\n",
        "    Row(Dia=5, hora=17, distancia= 2),\n",
        "    Row(Dia=6, hora=17, distancia= 2)\n",
        "])\n",
        "df.show()"
      ]
    },
    {
      "cell_type": "code",
      "execution_count": 53,
      "metadata": {
        "id": "N9XiaF9JaKN6",
        "colab": {
          "base_uri": "https://localhost:8080/"
        },
        "outputId": "02ff1b59-9539-4eb9-a95a-9a8a90e56c4d"
      },
      "outputs": [
        {
          "output_type": "stream",
          "name": "stdout",
          "text": [
            "+--------------+------------------+\n",
            "|    preditoras|  fare_amount_pred|\n",
            "+--------------+------------------+\n",
            "|[6.0,16.0,3.0]| 13.83717306520015|\n",
            "|[1.0,11.0,8.0]| 31.74552998228606|\n",
            "|[5.0,17.0,2.0]|10.747678537128628|\n",
            "|[6.0,17.0,2.0]|10.747678537128628|\n",
            "+--------------+------------------+\n",
            "\n"
          ]
        }
      ],
      "source": [
        " # Fazendo as previsaoes\n",
        " def_preditoras1 = VectorAssembler(\n",
        "    inputCols=[\n",
        "    'Dia',\n",
        "    'hora',\n",
        "    'distancia'],\n",
        "    outputCol= 'preditoras'\n",
        ")\n",
        "\n",
        "v1 = def_preditoras1.transform(df)\n",
        "\n",
        "v2= v1.select( 'preditoras')\n",
        "\n",
        "pred=modelo_dt.transform(v2)\n",
        "pred.show()"
      ]
    },
    {
      "cell_type": "markdown",
      "source": [
        "## **8. Conclusão**"
      ],
      "metadata": {
        "id": "u1cbikO1PdnZ"
      }
    },
    {
      "cell_type": "markdown",
      "source": [
        "- Com base nas informações de hora do dia, dia da semana e distância percorrida fornecidas, o modelo é capaz de realizar uma previsão estimada do valor da tarifa.\n",
        "\n",
        "- Explorar alternativas nos algoritmos de aprendizado, como a incorporação do Random Forest, e a otimização de hiperparâmetros são estratégias fundamentais para aprimorar a precisão do modelo de previsão."
      ],
      "metadata": {
        "id": "W1FvAH0tQQcP"
      }
    }
  ],
  "metadata": {
    "colab": {
      "provenance": []
    },
    "kernelspec": {
      "display_name": "Python 3",
      "name": "python3"
    },
    "language_info": {
      "name": "python"
    }
  },
  "nbformat": 4,
  "nbformat_minor": 0
}